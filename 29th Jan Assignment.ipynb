{
 "cells": [
  {
   "cell_type": "code",
   "execution_count": 1,
   "id": "23cf3702",
   "metadata": {},
   "outputs": [],
   "source": [
    "# 29th Jan Assignment"
   ]
  },
  {
   "cell_type": "code",
   "execution_count": 2,
   "id": "8ba9bf83",
   "metadata": {},
   "outputs": [],
   "source": [
    "# (Q1):who developed python programming language?"
   ]
  },
  {
   "cell_type": "code",
   "execution_count": 3,
   "id": "fd515556",
   "metadata": {},
   "outputs": [],
   "source": [
    "# Ans: python was developed by \"Guido van russam\" and first released on february 20 in 1991."
   ]
  },
  {
   "cell_type": "code",
   "execution_count": 4,
   "id": "48a37711",
   "metadata": {},
   "outputs": [],
   "source": [
    "# (Q2):Which type of Programming does Python support? "
   ]
  },
  {
   "cell_type": "code",
   "execution_count": 5,
   "id": "86d66767",
   "metadata": {},
   "outputs": [],
   "source": [
    "# Ans:Object oriented programming and structured programming."
   ]
  },
  {
   "cell_type": "code",
   "execution_count": 6,
   "id": "187e26b3",
   "metadata": {},
   "outputs": [],
   "source": [
    "# (Q3):Is Python case sensitive when dealing with identifiers? "
   ]
  },
  {
   "cell_type": "code",
   "execution_count": 7,
   "id": "13020d62",
   "metadata": {},
   "outputs": [],
   "source": [
    "# Ans:Yes python is a case sensitive when dealing with identifiers."
   ]
  },
  {
   "cell_type": "code",
   "execution_count": 8,
   "id": "b13001b1",
   "metadata": {},
   "outputs": [],
   "source": [
    "# (Q4):What is the correct extension of the Python file? "
   ]
  },
  {
   "cell_type": "code",
   "execution_count": 9,
   "id": "51d2d9c2",
   "metadata": {},
   "outputs": [],
   "source": [
    "# Ans: .py is the corret extensions of python file."
   ]
  },
  {
   "cell_type": "code",
   "execution_count": 10,
   "id": "4d688c67",
   "metadata": {},
   "outputs": [],
   "source": [
    "# (Q5): Is Python code compiled or interpreted? "
   ]
  },
  {
   "cell_type": "code",
   "execution_count": 11,
   "id": "725cfe46",
   "metadata": {},
   "outputs": [],
   "source": [
    "# Ans: python is an interpreted language."
   ]
  },
  {
   "cell_type": "code",
   "execution_count": 12,
   "id": "43d54747",
   "metadata": {},
   "outputs": [],
   "source": [
    "# (Q6): Name a few blocks of code used to define in Python language? "
   ]
  },
  {
   "cell_type": "code",
   "execution_count": 13,
   "id": "2cd68874",
   "metadata": {},
   "outputs": [],
   "source": [
    "# Ans: Python program is constructed from code blocks. A block is a piece of Python program text that is executed as a unit.\n",
    "#      The following are blocks: a module, a function body, and a class definition. Each command typed interactively is a block."
   ]
  },
  {
   "cell_type": "code",
   "execution_count": 14,
   "id": "ceef12da",
   "metadata": {},
   "outputs": [],
   "source": [
    "# (Q7): State a character used to give single-line comments in Python? "
   ]
  },
  {
   "cell_type": "code",
   "execution_count": 15,
   "id": "ed2b15e8",
   "metadata": {},
   "outputs": [],
   "source": [
    "# Ans: \"#\"character is used to give a single line comments in python."
   ]
  },
  {
   "cell_type": "code",
   "execution_count": 16,
   "id": "490f8509",
   "metadata": {},
   "outputs": [],
   "source": [
    "# (Q8):Mention functions which can help us to find the version of python that we are currently working on? "
   ]
  },
  {
   "cell_type": "code",
   "execution_count": 17,
   "id": "1839dffa",
   "metadata": {},
   "outputs": [],
   "source": [
    "# Ans: sys.version is used to find the version of python that we are currently working on."
   ]
  },
  {
   "cell_type": "code",
   "execution_count": 18,
   "id": "2eb548f7",
   "metadata": {},
   "outputs": [],
   "source": [
    "# (Q9):Python supports the creation of anonymous functions at runtime, using a construct called "
   ]
  },
  {
   "cell_type": "code",
   "execution_count": 19,
   "id": "16dabc90",
   "metadata": {},
   "outputs": [],
   "source": [
    "# Ans: It uses to construct called \"lamda\""
   ]
  },
  {
   "cell_type": "code",
   "execution_count": 20,
   "id": "8aefd707",
   "metadata": {},
   "outputs": [],
   "source": [
    "# (Q10):What does pip stand for python?"
   ]
  },
  {
   "cell_type": "code",
   "execution_count": 21,
   "id": "b2378f81",
   "metadata": {},
   "outputs": [],
   "source": [
    "# Ans: pip stands for \"preffered installer program\"."
   ]
  },
  {
   "cell_type": "code",
   "execution_count": 22,
   "id": "e873739e",
   "metadata": {},
   "outputs": [],
   "source": [
    "# (Q11):Mention a few built-in functions in python? "
   ]
  },
  {
   "cell_type": "code",
   "execution_count": 23,
   "id": "ba17f23b",
   "metadata": {},
   "outputs": [],
   "source": [
    "# Ans:print( ) function.type( ) function.input( ) function.sorted()function."
   ]
  },
  {
   "cell_type": "code",
   "execution_count": 24,
   "id": "798f8782",
   "metadata": {},
   "outputs": [],
   "source": [
    "# (Q12): What is the maximum possible length of an identifier in Python? "
   ]
  },
  {
   "cell_type": "code",
   "execution_count": 25,
   "id": "517d71ba",
   "metadata": {},
   "outputs": [],
   "source": [
    "# Ans: An identifier can have a maximum length of 79 characters in Python."
   ]
  },
  {
   "cell_type": "code",
   "execution_count": 26,
   "id": "feadb1bb",
   "metadata": {},
   "outputs": [],
   "source": [
    "# (Q13):What are the benefits of using Python? "
   ]
  },
  {
   "cell_type": "code",
   "execution_count": 28,
   "id": "85fcc010",
   "metadata": {},
   "outputs": [],
   "source": [
    "# Ans:\n",
    "#Data science.\n",
    "#Scientific and mathematical computing.\n",
    "#Web development.\n",
    "#Finance and trading.\n",
    "#System automation and administration.\n",
    "#Computer graphics.\n",
    "#Basic game development.\n",
    "#Security and penetration test"
   ]
  },
  {
   "cell_type": "code",
   "execution_count": 29,
   "id": "2c0182ba",
   "metadata": {},
   "outputs": [],
   "source": [
    "# (Q14):How is memory managed in Python? "
   ]
  },
  {
   "cell_type": "code",
   "execution_count": 31,
   "id": "dc2bcacc",
   "metadata": {},
   "outputs": [],
   "source": [
    "# Ans:Python uses a portion of the memory for internal use and non-object memory.\n",
    "#Another part of the memory is used for Python object such as int, dict, list, etc. "
   ]
  },
  {
   "cell_type": "code",
   "execution_count": 32,
   "id": "885a1b0a",
   "metadata": {},
   "outputs": [],
   "source": [
    "# (Q15):How to install Python on Windows and set path variables?"
   ]
  },
  {
   "cell_type": "code",
   "execution_count": 33,
   "id": "91ea633a",
   "metadata": {},
   "outputs": [],
   "source": [
    "# Ans:Right-clicking This PC and going to Properties.\n",
    "\n",
    "#Clicking on the Advanced system settings in the menu on the left\n",
    "#Clicking on the Environment Variables button on the bottom right.\n",
    "#In the System variables section, selecting the Path variable and clicking on Edit. \n",
    "#The next screen will show all the directories that are currently a part of the PATH variable.\n",
    "#Clicking on New and entering Python’s install directory."
   ]
  },
  {
   "cell_type": "code",
   "execution_count": 34,
   "id": "9e6b00c7",
   "metadata": {},
   "outputs": [],
   "source": [
    "# (Q16):Is indentation required in python? "
   ]
  },
  {
   "cell_type": "code",
   "execution_count": null,
   "id": "e622b635",
   "metadata": {},
   "outputs": [],
   "source": [
    "# Ans:The indentation in Python is very important.Python uses indentation to indicate a block of code."
   ]
  }
 ],
 "metadata": {
  "kernelspec": {
   "display_name": "Python 3 (ipykernel)",
   "language": "python",
   "name": "python3"
  },
  "language_info": {
   "codemirror_mode": {
    "name": "ipython",
    "version": 3
   },
   "file_extension": ".py",
   "mimetype": "text/x-python",
   "name": "python",
   "nbconvert_exporter": "python",
   "pygments_lexer": "ipython3",
   "version": "3.9.13"
  }
 },
 "nbformat": 4,
 "nbformat_minor": 5
}
